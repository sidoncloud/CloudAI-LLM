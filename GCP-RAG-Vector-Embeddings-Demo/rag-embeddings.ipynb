{
 "cells": [
  {
   "cell_type": "code",
   "execution_count": null,
   "id": "77f7e609-7239-4328-9d39-980fc396ab6e",
   "metadata": {
    "tags": []
   },
   "outputs": [],
   "source": [
    "# !pip install -q --upgrade --user google-cloud-aiplatform==1.36.1\n",
    "# ! pip install python-docx"
   ]
  },
  {
   "cell_type": "code",
   "execution_count": 1,
   "id": "06789cdd-7f1b-46a6-bd4f-667000515838",
   "metadata": {
    "tags": []
   },
   "outputs": [],
   "source": [
    "import numpy as np\n",
    "import pandas as pd\n",
    "import numpy.linalg\n",
    "import vertexai\n",
    "from google.api_core import retry\n",
    "from vertexai.language_models import TextEmbeddingModel, TextGenerationModel\n",
    "from tqdm.auto import tqdm\n",
    "import itertools,docx\n",
    "from google.api_core import retry\n",
    "tqdm.pandas()\n",
    "\n",
    "project_id = \"genai-demo-409412\"\n",
    "location = \"us-central1\"\n",
    "vertexai.init(project=project_id, location=location)\n",
    "\n",
    "\n",
    "embedding_model = TextEmbeddingModel.from_pretrained(\"textembedding-gecko@001\")\n",
    "\n",
    "generation_model = TextGenerationModel.from_pretrained(\"text-bison@001\")"
   ]
  },
  {
   "cell_type": "code",
   "execution_count": 2,
   "id": "a45b59d6-2d7a-4a13-b5a9-438b3dddd697",
   "metadata": {
    "tags": []
   },
   "outputs": [
    {
     "name": "stdout",
     "output_type": "stream",
     "text": [
      "We have a variety of products for kids, including toys, games, books, and clothes.\n",
      "\n",
      "Toys: We have a wide variety of toys for kids of all ages, including dolls, action figures, cars, trucks, and building blocks. We also have a variety of educational toys that help kids learn and develop their skills.\n",
      "\n",
      "Games: We have a variety of games for kids of all ages, including board games, card games, and video games. We also have a variety of outdoor games, such as basketball, soccer, and baseball.\n",
      "\n",
      "Books: We have a variety of books for kids of all\n"
     ]
    }
   ],
   "source": [
    "user_query = \"\"\"\n",
    "                what products do you have for kids? Describe all the products in detail.\n",
    "            \"\"\"\n",
    "generated_answer = generation_model.predict(user_query)\n",
    "print(generated_answer.text)"
   ]
  },
  {
   "cell_type": "code",
   "execution_count": 3,
   "id": "caeafefe-3afb-40a8-b2e7-e7f0e72dd63e",
   "metadata": {
    "tags": []
   },
   "outputs": [],
   "source": [
    "def extract_text_from_docx(docx_path):\n",
    "    doc = docx.Document(docx_path)\n",
    "    extracted_text = [paragraph.text for paragraph in doc.paragraphs]\n",
    "    return extracted_text\n",
    "\n",
    "docx_file_path = 'ecommerce_products.docx'\n",
    "extracted_text = extract_text_from_docx(docx_file_path)\n",
    "filtered_text = [line for line in extracted_text if line != '']"
   ]
  },
  {
   "cell_type": "code",
   "execution_count": 5,
   "id": "1ac4779c-6cd9-4d49-9750-0a53b4d3e3bb",
   "metadata": {
    "tags": []
   },
   "outputs": [],
   "source": [
    "# filtered_text"
   ]
  },
  {
   "cell_type": "code",
   "execution_count": 7,
   "id": "13f849bd-3dab-4a55-9170-28af64f5f2e6",
   "metadata": {
    "tags": []
   },
   "outputs": [],
   "source": [
    "# for i in filtered_text:\n",
    "#     print(i)\n",
    "#     print(\"\\n\")"
   ]
  },
  {
   "cell_type": "code",
   "execution_count": 8,
   "id": "fcc7030e-68ff-4ec3-8685-254d342d802b",
   "metadata": {
    "tags": []
   },
   "outputs": [],
   "source": [
    "def create_text_chunks(sequence, chunk_length, overlap_length):\n",
    "    if len(sequence) <= chunk_length:\n",
    "        return [sequence]\n",
    "    return [\"\".join(parts) for parts in zip(*[sequence[i::chunk_length - overlap_length] for i in range(chunk_length)])]\n",
    "\n",
    "def calculate_similarity(vector1):\n",
    "    def similarity_metric(row):\n",
    "        return np.dot(row, vector1) / (numpy.linalg.norm(row) * numpy.linalg.norm(vector1))\n",
    "    return similarity_metric\n",
    "\n",
    "@retry.Retry(timeout=300.0)\n",
    "def retrieve_embeddings(input_text):\n",
    "    return embedding_model.get_embeddings([input_text])[0].values\n",
    "\n",
    "def build_vector_store(input_texts, chunk_size, overlap_size):\n",
    "    store = pd.DataFrame()\n",
    "    store[\"text_chunks\"] = list(itertools.chain(*[create_text_chunks(text, chunk_size, overlap_size) for text in input_texts]))\n",
    "    store[\"text_embeddings\"] = store[\"text_chunks\"].progress_apply(retrieve_embeddings).apply(np.array)\n",
    "    return store\n",
    "\n",
    "def derive_context(question, store,top_docs):\n",
    "    question_vector = np.array(retrieve_embeddings(question))\n",
    "    matched_indices = store[\"text_embeddings\"].apply(calculate_similarity(question_vector)).sort_values(ascending=False)[:top_docs].index\n",
    "    matched_texts = store[store.index.isin(matched_indices)][\"text_chunks\"]\n",
    "    context_str = \" \".join(matched_texts.values)\n",
    "    return context_str\n",
    "\n",
    "def generate_answer(query, store, num_documents=50, show_prompt=False):\n",
    "    context_data = derive_context(query, store, num_documents)\n",
    "    prompt_structure = f\"\"\"\n",
    "        Your mission is to answer questions based on the given context. \n",
    "        Before you give an answer, make sure it is only from information in the context. \n",
    "        If the information is not in the context, just reply \"I don't know the answer to that\". \n",
    "            Context: ```{context_data}```\n",
    "            Question: ***{query}***\n",
    "            Answer: \n",
    "        \"\"\"\n",
    "    if show_prompt:\n",
    "        print(prompt_structure)\n",
    "    generated_response = generation_model.predict(prompt_structure, temperature=0.7,max_output_tokens=1024)\n",
    "    return generated_response.text"
   ]
  },
  {
   "cell_type": "code",
   "execution_count": 9,
   "id": "8444e015-2cff-450c-b64b-7ec2cf49e5b0",
   "metadata": {
    "tags": []
   },
   "outputs": [
    {
     "data": {
      "application/vnd.jupyter.widget-view+json": {
       "model_id": "1c4ceaff36ed4f3b9a184928410c3a6a",
       "version_major": 2,
       "version_minor": 0
      },
      "text/plain": [
       "  0%|          | 0/160 [00:00<?, ?it/s]"
      ]
     },
     "metadata": {},
     "output_type": "display_data"
    }
   ],
   "source": [
    "chunk_size = 36\n",
    "overlap_size = 0\n",
    "\n",
    "text_vector_store = build_vector_store(filtered_text, chunk_size, overlap_size)"
   ]
  },
  {
   "cell_type": "code",
   "execution_count": 10,
   "id": "73e42471-f3be-4064-8f35-740e6ba3848a",
   "metadata": {
    "tags": []
   },
   "outputs": [
    {
     "data": {
      "text/html": [
       "<div>\n",
       "<style scoped>\n",
       "    .dataframe tbody tr th:only-of-type {\n",
       "        vertical-align: middle;\n",
       "    }\n",
       "\n",
       "    .dataframe tbody tr th {\n",
       "        vertical-align: top;\n",
       "    }\n",
       "\n",
       "    .dataframe thead th {\n",
       "        text-align: right;\n",
       "    }\n",
       "</style>\n",
       "<table border=\"1\" class=\"dataframe\">\n",
       "  <thead>\n",
       "    <tr style=\"text-align: right;\">\n",
       "      <th></th>\n",
       "      <th>text_chunks</th>\n",
       "      <th>text_embeddings</th>\n",
       "    </tr>\n",
       "  </thead>\n",
       "  <tbody>\n",
       "    <tr>\n",
       "      <th>0</th>\n",
       "      <td>Below is the List of products that a</td>\n",
       "      <td>[0.020918134599924088, 0.02229158580303192, 0....</td>\n",
       "    </tr>\n",
       "    <tr>\n",
       "      <th>1</th>\n",
       "      <td>re currently live on our mobile app</td>\n",
       "      <td>[-0.031662553548812866, 0.046923596411943436, ...</td>\n",
       "    </tr>\n",
       "    <tr>\n",
       "      <th>2</th>\n",
       "      <td>Product Name: Aurora Smartwatch for</td>\n",
       "      <td>[-0.00695442408323288, 0.06290320307016373, 0....</td>\n",
       "    </tr>\n",
       "    <tr>\n",
       "      <th>3</th>\n",
       "      <td>Men. Priced at $250, Product descrip</td>\n",
       "      <td>[-0.014447714202105999, 0.02792857401072979, 0...</td>\n",
       "    </tr>\n",
       "    <tr>\n",
       "      <th>4</th>\n",
       "      <td>tion: High-tech and stylish smartwat</td>\n",
       "      <td>[0.0061335074715316296, 0.019488485530018806, ...</td>\n",
       "    </tr>\n",
       "  </tbody>\n",
       "</table>\n",
       "</div>"
      ],
      "text/plain": [
       "                            text_chunks  \\\n",
       "0  Below is the List of products that a   \n",
       "1  re currently live on our mobile app    \n",
       "2  Product Name: Aurora Smartwatch for    \n",
       "3  Men. Priced at $250, Product descrip   \n",
       "4  tion: High-tech and stylish smartwat   \n",
       "\n",
       "                                     text_embeddings  \n",
       "0  [0.020918134599924088, 0.02229158580303192, 0....  \n",
       "1  [-0.031662553548812866, 0.046923596411943436, ...  \n",
       "2  [-0.00695442408323288, 0.06290320307016373, 0....  \n",
       "3  [-0.014447714202105999, 0.02792857401072979, 0...  \n",
       "4  [0.0061335074715316296, 0.019488485530018806, ...  "
      ]
     },
     "execution_count": 10,
     "metadata": {},
     "output_type": "execute_result"
    }
   ],
   "source": [
    "text_vector_store.head()"
   ]
  },
  {
   "cell_type": "code",
   "execution_count": 11,
   "id": "e0ff2593-99d2-442e-b733-b0eb45b300f9",
   "metadata": {
    "tags": []
   },
   "outputs": [
    {
     "name": "stdout",
     "output_type": "stream",
     "text": [
      "We have the following products for kids: Galaxy Night Lamp for Kids priced at $30, Magical Storybook for Kids priced at $25, Robot Building Kit for Kids priced at $45, Interactive Globe for Kids priced at $50, and Aromatherapy Candle Set for Kids priced at $40.\n"
     ]
    }
   ],
   "source": [
    "user_query = \"\"\"\n",
    "                what products do you have for kids? Tell me about each of them including the price.\n",
    "            \"\"\"\n",
    "\n",
    "generated_answer = generate_answer(user_query, text_vector_store)\n",
    "print(generated_answer)"
   ]
  },
  {
   "cell_type": "code",
   "execution_count": 12,
   "id": "19d159a4-a7f5-4a99-b326-6cab0724a3e0",
   "metadata": {
    "tags": []
   },
   "outputs": [
    {
     "name": "stdout",
     "output_type": "stream",
     "text": [
      "The Gourmet Coffee Beans are premium quality, freshly roasted coffee beans from the best plantations in the world. They are available in a variety of flavours, so you can find the perfect one to suit your taste.\n"
     ]
    }
   ],
   "source": [
    "user_query = \"\"\"\n",
    "                do you have coffee beans? tell me more about the product.\n",
    "            \"\"\"\n",
    "\n",
    "generated_answer = generate_answer(user_query, text_vector_store)\n",
    "print(generated_answer)"
   ]
  },
  {
   "cell_type": "code",
   "execution_count": null,
   "id": "c4261e9a-e502-43ef-86ee-299cda0641e0",
   "metadata": {
    "tags": []
   },
   "outputs": [],
   "source": []
  },
  {
   "cell_type": "code",
   "execution_count": null,
   "id": "43f5c909-f290-459a-aa5a-eb43592fd689",
   "metadata": {},
   "outputs": [],
   "source": []
  },
  {
   "cell_type": "code",
   "execution_count": null,
   "id": "b232ed8e-d259-4099-8678-8f84c9463c63",
   "metadata": {},
   "outputs": [],
   "source": []
  },
  {
   "cell_type": "code",
   "execution_count": null,
   "id": "77db973e-2308-48d2-8c7f-1bdae7be0db7",
   "metadata": {},
   "outputs": [],
   "source": []
  },
  {
   "cell_type": "code",
   "execution_count": null,
   "id": "c1827f51-7edf-420d-a3cc-c5d2457a2ff9",
   "metadata": {},
   "outputs": [],
   "source": []
  },
  {
   "cell_type": "code",
   "execution_count": null,
   "id": "bb9f1b40-bc34-4b2f-af14-5b26559bfa9e",
   "metadata": {},
   "outputs": [],
   "source": []
  },
  {
   "cell_type": "code",
   "execution_count": null,
   "id": "9c7e3c11-0106-4911-8433-fe20edbc9894",
   "metadata": {},
   "outputs": [],
   "source": []
  },
  {
   "cell_type": "code",
   "execution_count": null,
   "id": "1880638a-c429-4d4a-9fed-ecaab4a224ca",
   "metadata": {},
   "outputs": [],
   "source": []
  },
  {
   "cell_type": "code",
   "execution_count": null,
   "id": "738f80ac-b722-4e75-bdae-baa5fb034ac0",
   "metadata": {},
   "outputs": [],
   "source": []
  },
  {
   "cell_type": "code",
   "execution_count": null,
   "id": "820ea911-82db-4d46-86cd-480094c0b784",
   "metadata": {},
   "outputs": [],
   "source": []
  },
  {
   "cell_type": "code",
   "execution_count": null,
   "id": "a4e05716-4ce1-4532-b2a1-fb220b85c8c3",
   "metadata": {},
   "outputs": [],
   "source": []
  },
  {
   "cell_type": "code",
   "execution_count": null,
   "id": "fc85b6f0-0696-48bc-862f-0e6ede26ead3",
   "metadata": {},
   "outputs": [],
   "source": []
  },
  {
   "cell_type": "code",
   "execution_count": null,
   "id": "e3df3b27-637f-4b13-87ca-a9cffa6192e8",
   "metadata": {},
   "outputs": [],
   "source": []
  }
 ],
 "metadata": {
  "environment": {
   "kernel": "python3",
   "name": "common-cpu.m114",
   "type": "gcloud",
   "uri": "gcr.io/deeplearning-platform-release/base-cpu:m114"
  },
  "kernelspec": {
   "display_name": "Python 3",
   "language": "python",
   "name": "python3"
  },
  "language_info": {
   "codemirror_mode": {
    "name": "ipython",
    "version": 3
   },
   "file_extension": ".py",
   "mimetype": "text/x-python",
   "name": "python",
   "nbconvert_exporter": "python",
   "pygments_lexer": "ipython3",
   "version": "3.10.13"
  }
 },
 "nbformat": 4,
 "nbformat_minor": 5
}
