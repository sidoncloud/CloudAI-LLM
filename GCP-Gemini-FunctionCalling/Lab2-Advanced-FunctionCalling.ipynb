{
 "cells": [
  {
   "cell_type": "code",
   "execution_count": 1,
   "id": "eaf92259-fcc7-49e5-af09-3772510b52ad",
   "metadata": {
    "tags": []
   },
   "outputs": [],
   "source": [
    "import vertexai\n",
    "import requests\n",
    "from IPython.display import display, Markdown\n",
    "from vertexai.generative_models import (\n",
    "    FunctionDeclaration,\n",
    "    GenerativeModel,\n",
    "    GenerationConfig,\n",
    "    Part,\n",
    "    Tool,\n",
    "    GenerationResponse\n",
    ")\n",
    "\n",
    "from typing import Any, Dict, List\n",
    "from google.cloud import bigquery\n",
    "\n",
    "PROJECT_ID = \"no-latency-labs\"\n",
    "LOCATION = \"us-central1\"\n",
    "\n",
    "vertexai.init(project=PROJECT_ID, location=LOCATION)\n",
    "\n",
    "client = bigquery.Client()\n",
    "\n",
    "query_product_info = FunctionDeclaration(\n",
    "    name=\"query_product_info\",\n",
    "    description=\"Fetch the product info from a bigquery table\",\n",
    "    parameters={\n",
    "        \"type\": \"object\",\n",
    "        \"properties\": {\n",
    "            \"product_name\": {\n",
    "                \"type\": \"string\",\n",
    "                \"description\": \"Name of the product for which the details are to be fetched\",\n",
    "            }\n",
    "        },\n",
    "    },\n",
    ")\n",
    "\n",
    "get_weekly_product_orders = FunctionDeclaration(\n",
    "    name=\"get_weekly_product_orders\",\n",
    "    description=\"Fetch the total orders for the last 1 week for any given product\",\n",
    "    parameters={\n",
    "        \"type\": \"object\",\n",
    "        \"properties\": {\n",
    "           \"product_name\": {\n",
    "                \"type\": \"string\",\n",
    "                \"description\": \"Name of the product for which the details are to be fetched\",\n",
    "            }\n",
    "        },\n",
    "    },\n",
    ")\n",
    "\n",
    "get_stock_price = FunctionDeclaration(\n",
    "    name=\"get_stock_price\",\n",
    "    description=\"Fetch the current stock price of a given company\",\n",
    "    parameters={\n",
    "        \"type\": \"object\",\n",
    "        \"properties\": {\n",
    "            \"ticker\": {\n",
    "                \"type\": \"string\",\n",
    "                \"description\": \"Stock ticker symbol for a company\",\n",
    "            }\n",
    "        },\n",
    "    },\n",
    ")\n",
    "\n",
    "fetch_info_tool = Tool(\n",
    "    function_declarations=[\n",
    "        query_product_info,\n",
    "        get_weekly_product_orders\n",
    "    ],\n",
    ")\n",
    "\n",
    "gemini_model = GenerativeModel(\n",
    "    \"gemini-1.5-pro-001\",\n",
    "    generation_config=GenerationConfig(temperature=0),\n",
    "    tools=[fetch_info_tool],\n",
    ")"
   ]
  },
  {
   "cell_type": "code",
   "execution_count": 2,
   "id": "80678c86-2985-4b81-9326-b34c5dcb8365",
   "metadata": {
    "tags": []
   },
   "outputs": [],
   "source": [
    "def extract_function_calls(response: GenerationResponse) -> List[Dict]:\n",
    "    function_calls: List[Dict] = []\n",
    "    if response.candidates[0].function_calls:\n",
    "        for function_call in response.candidates[0].function_calls:\n",
    "            function_call_dict = {'function_name': function_call.name}\n",
    "            for key, value in function_call.args.items():\n",
    "                if isinstance(value, dict):\n",
    "                    first_value_key = next(iter(value))\n",
    "                    arg_value = value[first_value_key]\n",
    "                else:\n",
    "                    arg_value = value\n",
    "                function_call_dict['arg_value'] = arg_value\n",
    "                \n",
    "            function_calls.append(function_call_dict)\n",
    "            \n",
    "    return function_calls\n",
    "\n",
    "def query_product_info(product_name):\n",
    "    \n",
    "    product_name = product_name.lower().strip()\n",
    "    \n",
    "    query = f\"\"\"\n",
    "    SELECT distinct name, brand, ROUND(retail_price, 1) AS price, department\n",
    "    FROM `bigquery-public-data.thelook_ecommerce.products`\n",
    "    WHERE LOWER(name) LIKE @product_name\n",
    "    \"\"\"\n",
    "\n",
    "    job_config = bigquery.QueryJobConfig(\n",
    "        query_parameters=[\n",
    "            bigquery.ScalarQueryParameter(\"product_name\", \"STRING\", f\"%{product_name.lower()}%\")\n",
    "        ]\n",
    "    )\n",
    "\n",
    "    # Run the query\n",
    "    query_job = client.query(query, job_config=job_config)\n",
    "\n",
    "    # Wait for the query to finish\n",
    "    results = query_job.result()\n",
    "\n",
    "    # Process the results\n",
    "    response = []\n",
    "    for row in results:\n",
    "        response.append({\n",
    "            \"name\": row.name,\n",
    "            \"brand\": row.brand,\n",
    "            \"price\": row.price,\n",
    "            \"department\": row.department\n",
    "        })\n",
    "\n",
    "    return response\n",
    "\n",
    "def get_weekly_product_orders(product_name):\n",
    "\n",
    "    product_name = product_name.lower().strip()\n",
    "    query = f\"\"\"\n",
    "        select a.name as product_name,b.total_orders from \n",
    "        (SELECT id,name,brand,round(retail_price,1) as price,department FROM `bigquery-public-data.thelook_ecommerce.products` \n",
    "        where lower(name) like '%{product_name}%') a\n",
    "        join \n",
    "        (\n",
    "          SELECT product_id,sum(distinct order_id) as total_orders FROM `bigquery-public-data.thelook_ecommerce.order_items` \n",
    "        where date(created_at)>=current_date-7 group by 1\n",
    "        ) b\n",
    "        on a.id = b.product_id\n",
    "    \"\"\"\n",
    "    job_config = bigquery.QueryJobConfig(\n",
    "        query_parameters=[\n",
    "            bigquery.ScalarQueryParameter(\"product_name\", \"STRING\", f\"%{product_name.lower()}%\")\n",
    "        ]\n",
    "    )\n",
    "\n",
    "    # Run the query\n",
    "    query_job = client.query(query, job_config=job_config)\n",
    "\n",
    "    # Wait for the query to finish\n",
    "    results = query_job.result()\n",
    "    \n",
    "    results = list(query_job.result()) \n",
    "    \n",
    "    if results is None or not results:\n",
    "        response = [{'product_name':product_name, 'total_orders': 0}]\n",
    "    else:\n",
    "        response = []\n",
    "        for row in results:\n",
    "            response.append({\n",
    "                \"product_name\": row.product_name,\n",
    "                \"total_orders\": row.total_orders\n",
    "            })\n",
    "\n",
    "    return response\n",
    "\n",
    "def get_stock_price_from_api(stock_symbol):\n",
    "    url = f\"https://www.alphavantage.co/query?function=GLOBAL_QUOTE&symbol={str(stock_symbol)}&apikey={API_KEY}\"\n",
    "    api_request = requests.get(url)\n",
    "    return api_request.text"
   ]
  },
  {
   "cell_type": "code",
   "execution_count": 3,
   "id": "1d69a1a4-5c28-49db-9c06-95b742f900c7",
   "metadata": {
    "tags": []
   },
   "outputs": [],
   "source": [
    "chat = gemini_model.start_chat()\n",
    "\n",
    "prompt = \"\"\"Whats the cost of Low Profile Dyed Cotton Twill Cap - Navy W39S55D and how many orders were place \n",
    "            for it in the past week?\"\"\"\n",
    "\n",
    "# prompt = \"\"\"\n",
    "#         Whats the cost of Low Profile Dyed Cotton Twill Cap - Navy W39S55D\n",
    "#         and how many orders were placed for it in the past 7 days?\n",
    "#         \"\"\"\n",
    "\n",
    "prompt += \"\"\"\n",
    "    Give a concise, high-level summary. Only use information that you learn from \n",
    "    the API response or BigQuery depending on the question. \n",
    "    Do not make up any information.\n",
    "    \"\"\"\n",
    "\n",
    "response = chat.send_message(prompt)\n",
    "\n",
    "function_calls = extract_function_calls(response)    "
   ]
  },
  {
   "cell_type": "code",
   "execution_count": 4,
   "id": "401cdba4-2409-4915-aa44-b3fe3ab15514",
   "metadata": {
    "tags": []
   },
   "outputs": [
    {
     "data": {
      "text/plain": [
       "[{'function_name': 'query_product_info',\n",
       "  'arg_value': 'Low Profile Dyed Cotton Twill Cap - Navy W39S55D'},\n",
       " {'function_name': 'get_weekly_product_orders',\n",
       "  'arg_value': 'Low Profile Dyed Cotton Twill Cap - Navy W39S55D'}]"
      ]
     },
     "execution_count": 4,
     "metadata": {},
     "output_type": "execute_result"
    }
   ],
   "source": [
    "function_calls"
   ]
  },
  {
   "cell_type": "code",
   "execution_count": 5,
   "id": "bf59f153-1354-437d-96ce-232384f60ecd",
   "metadata": {
    "tags": []
   },
   "outputs": [],
   "source": [
    "api_response = []\n",
    "\n",
    "for function_call in function_calls:\n",
    "\n",
    "    if function_call['function_name']=='query_product_info': \n",
    "        result = query_product_info(function_call['arg_value'])\n",
    "        result.append(function_call['function_name'])\n",
    "        api_response.append(result)\n",
    "    \n",
    "    elif function_call['function_name']=='get_weekly_product_orders': \n",
    "        result = get_weekly_product_orders(function_call['arg_value'])\n",
    "        result.append(function_call['function_name'])\n",
    "        api_response.append(result)"
   ]
  },
  {
   "cell_type": "code",
   "execution_count": 6,
   "id": "9e54aced-3b4b-4edd-b396-f58d45d614f3",
   "metadata": {
    "tags": []
   },
   "outputs": [
    {
     "data": {
      "text/plain": [
       "[[{'name': 'Low Profile Dyed Cotton Twill Cap - Navy W39S55D',\n",
       "   'brand': 'MG',\n",
       "   'price': 6.3,\n",
       "   'department': 'Women'},\n",
       "  'query_product_info'],\n",
       " [{'product_name': 'Low Profile Dyed Cotton Twill Cap - Navy W39S55D',\n",
       "   'total_orders': 91324},\n",
       "  'get_weekly_product_orders']]"
      ]
     },
     "execution_count": 6,
     "metadata": {},
     "output_type": "execute_result"
    }
   ],
   "source": [
    "api_response"
   ]
  },
  {
   "cell_type": "code",
   "execution_count": 7,
   "id": "5f2c0138-e707-4492-b00a-49a5c68a021d",
   "metadata": {
    "tags": []
   },
   "outputs": [],
   "source": [
    "response_parts = [\n",
    "    Part.from_function_response(\n",
    "        name=api_response[i][1],  # Dynamically fetching the function name\n",
    "        response={\"content\": api_response[i][0]}  # Adjusted to fetch the content part\n",
    "    )\n",
    "    for i in range(len(api_response))\n",
    "]\n",
    "\n",
    "response = chat.send_message(response_parts)"
   ]
  },
  {
   "cell_type": "code",
   "execution_count": 10,
   "id": "fcaaa0e3-e6fe-4429-b709-2629e2ac7c6d",
   "metadata": {
    "tags": []
   },
   "outputs": [
    {
     "data": {
      "text/plain": [
       "'The Low Profile Dyed Cotton Twill Cap - Navy W39S55D costs $6.3. There were 91,324 orders placed in the past week. \\n'"
      ]
     },
     "execution_count": 10,
     "metadata": {},
     "output_type": "execute_result"
    }
   ],
   "source": [
    "str(response.text)"
   ]
  },
  {
   "cell_type": "code",
   "execution_count": null,
   "id": "4837aa5b-c835-426d-9f22-f33b80180212",
   "metadata": {},
   "outputs": [],
   "source": []
  },
  {
   "cell_type": "code",
   "execution_count": null,
   "id": "1cec7b5c-a7fb-4210-a668-1461687cc0dd",
   "metadata": {},
   "outputs": [],
   "source": []
  },
  {
   "cell_type": "code",
   "execution_count": null,
   "id": "3adc5efd-7d01-40d8-946b-7ffda33d820d",
   "metadata": {},
   "outputs": [],
   "source": []
  },
  {
   "cell_type": "code",
   "execution_count": null,
   "id": "4636ba35-3bb9-45fa-8526-2458035618dd",
   "metadata": {},
   "outputs": [],
   "source": []
  },
  {
   "cell_type": "code",
   "execution_count": null,
   "id": "ceae1cfc-4252-4e2a-b06e-cc76a480041e",
   "metadata": {},
   "outputs": [],
   "source": []
  }
 ],
 "metadata": {
  "environment": {
   "kernel": "python3",
   "name": "common-cpu.m124",
   "type": "gcloud",
   "uri": "us-docker.pkg.dev/deeplearning-platform-release/gcr.io/base-cpu:m124"
  },
  "kernelspec": {
   "display_name": "Python 3 (Local)",
   "language": "python",
   "name": "python3"
  },
  "language_info": {
   "codemirror_mode": {
    "name": "ipython",
    "version": 3
   },
   "file_extension": ".py",
   "mimetype": "text/x-python",
   "name": "python",
   "nbconvert_exporter": "python",
   "pygments_lexer": "ipython3",
   "version": "3.10.14"
  }
 },
 "nbformat": 4,
 "nbformat_minor": 5
}
