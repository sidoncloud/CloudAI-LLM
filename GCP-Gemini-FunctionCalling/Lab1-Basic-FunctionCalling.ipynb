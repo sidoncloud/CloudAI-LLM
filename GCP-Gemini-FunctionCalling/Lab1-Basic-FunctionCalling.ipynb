{
 "cells": [
  {
   "cell_type": "code",
   "execution_count": null,
   "id": "720fd1b7-bf99-4968-af29-48ea1ae77c7e",
   "metadata": {},
   "outputs": [],
   "source": [
    "# !pip install --upgrade --quiet google-cloud-aiplatform"
   ]
  },
  {
   "cell_type": "code",
   "execution_count": 1,
   "id": "c1de04d8-2a63-4230-8a1a-42b4d2b87df0",
   "metadata": {
    "tags": []
   },
   "outputs": [],
   "source": [
    "import vertexai\n",
    "from IPython.display import display, Markdown\n",
    "from vertexai.generative_models import (\n",
    "    FunctionDeclaration,\n",
    "    GenerativeModel,\n",
    "    GenerationConfig,\n",
    "    Part,\n",
    "    Tool,\n",
    "    GenerationResponse\n",
    ")\n",
    "\n",
    "from typing import Any, Dict, List\n",
    "from google.cloud import bigquery\n",
    "\n",
    "PROJECT_ID = \"no-latency-labs\"\n",
    "LOCATION = \"us-central1\"\n",
    "\n",
    "vertexai.init(project=PROJECT_ID, location=LOCATION)\n",
    "\n",
    "client = bigquery.Client()\n",
    "\n",
    "query_product_info = FunctionDeclaration(\n",
    "    name=\"query_product_info\",\n",
    "    description=\"Fetch the product info from a bigquery table\",\n",
    "    parameters={\n",
    "        \"type\": \"object\",\n",
    "        \"properties\": {\n",
    "            \"product_name\": {\n",
    "                \"type\": \"string\",\n",
    "                \"description\": \"Name of the product for which the details are to be fetched\",\n",
    "            }\n",
    "        },\n",
    "    },\n",
    ")\n",
    "\n",
    "get_weekly_product_orders = FunctionDeclaration(\n",
    "    name=\"get_weekly_product_orders\",\n",
    "    description=\"Fetch the total orders for the last 1 week for any given product\",\n",
    "    parameters={\n",
    "        \"type\": \"object\",\n",
    "        \"properties\": {\n",
    "           \"product_name\": {\n",
    "                \"type\": \"string\",\n",
    "                \"description\": \"Name of the product for which the details are to be fetched\",\n",
    "            }\n",
    "        },\n",
    "    },\n",
    ")\n",
    "\n",
    "fetch_info_tool = Tool(\n",
    "    function_declarations=[query_product_info,get_weekly_product_orders],\n",
    ")\n",
    "\n",
    "gemini_model = GenerativeModel(\n",
    "    \"gemini-1.5-pro-001\",\n",
    "    generation_config=GenerationConfig(temperature=0),\n",
    "    tools=[fetch_info_tool],\n",
    ")"
   ]
  },
  {
   "cell_type": "code",
   "execution_count": 2,
   "id": "65b11904-7ba9-49f4-b062-70f47329b876",
   "metadata": {
    "tags": []
   },
   "outputs": [],
   "source": [
    "def query_product_info(product_name):\n",
    "\n",
    "    query = f\"\"\"\n",
    "    SELECT distinct name, brand, ROUND(retail_price, 1) AS price, department\n",
    "    FROM `bigquery-public-data.thelook_ecommerce.products`\n",
    "    WHERE LOWER(name) LIKE @product_name\n",
    "    \"\"\"\n",
    "\n",
    "    job_config = bigquery.QueryJobConfig(\n",
    "        query_parameters=[\n",
    "            bigquery.ScalarQueryParameter(\"product_name\", \"STRING\", f\"%{product_name.lower()}%\")\n",
    "        ]\n",
    "    )\n",
    "\n",
    "    # Run the query\n",
    "    query_job = client.query(query, job_config=job_config)\n",
    "\n",
    "    # Wait for the query to finish\n",
    "    results = query_job.result()\n",
    "\n",
    "    # Process the results\n",
    "    response = []\n",
    "    for row in results:\n",
    "        response.append({\n",
    "            \"name\": row.name,\n",
    "            \"brand\": row.brand,\n",
    "            \"price\": row.price,\n",
    "            \"department\": row.department\n",
    "        })\n",
    "\n",
    "    return response\n",
    "\n",
    "def get_weekly_product_orders(product_name):\n",
    "\n",
    "    product_name = product_name.lower().strip()\n",
    "    query = f\"\"\"\n",
    "        select a.name as product_name,b.total_orders from \n",
    "        (SELECT id,name,brand,round(retail_price,1) as price,department FROM `bigquery-public-data.thelook_ecommerce.products` \n",
    "        where lower(name) like '%{product_name}%') a\n",
    "        join \n",
    "        (\n",
    "          SELECT product_id,sum(distinct order_id) as total_orders FROM `bigquery-public-data.thelook_ecommerce.order_items` \n",
    "        where date(created_at)>=current_date-7 group by 1\n",
    "        ) b\n",
    "        on a.id = b.product_id\n",
    "    \"\"\"\n",
    "    job_config = bigquery.QueryJobConfig(\n",
    "        query_parameters=[\n",
    "            bigquery.ScalarQueryParameter(\"product_name\", \"STRING\", f\"%{product_name.lower()}%\")\n",
    "        ]\n",
    "    )\n",
    "\n",
    "    # Run the query\n",
    "    query_job = client.query(query, job_config=job_config)\n",
    "\n",
    "    # Wait for the query to finish\n",
    "    results = query_job.result()\n",
    "    \n",
    "    results = list(query_job.result()) \n",
    "    \n",
    "    if results is None or not results:\n",
    "        response = [{'product_name':product_name, 'total_orders': 0}]\n",
    "    else:\n",
    "        response = []\n",
    "        for row in results:\n",
    "            response.append({\n",
    "                \"product_name\": row.product_name,\n",
    "                \"total_orders\": row.total_orders\n",
    "            })\n",
    "\n",
    "    return response"
   ]
  },
  {
   "cell_type": "code",
   "execution_count": 45,
   "id": "8d33aa7b-cfa8-46aa-8074-6036daa52cc9",
   "metadata": {
    "tags": []
   },
   "outputs": [],
   "source": [
    "chat = gemini_model.start_chat()\n",
    "\n",
    "prompt = \"\"\"Whats the cost of Low Profile Dyed Cotton Twill Cap - Navy W39S55D \n",
    "        and how many orders were place for it in the past week?\n",
    "        \"\"\"\n",
    "\n",
    "# prompt = \"\"\"How many orders were placed for Enzyme Regular Solid Army Caps-Black W35S45D in the past week?\"\"\"\n",
    "\n",
    "prompt += \"\"\"\n",
    "    Give a concise, high-level summary. \n",
    "    Only use information that you learn from BigQuery depending on the question and do not make up any information.\n",
    "    \"\"\"\n",
    "\n",
    "response = chat.send_message(prompt)"
   ]
  },
  {
   "cell_type": "code",
   "execution_count": 47,
   "id": "0981dcb1-efe0-476d-8677-c7ef9e484618",
   "metadata": {
    "tags": []
   },
   "outputs": [],
   "source": [
    "# response"
   ]
  },
  {
   "cell_type": "code",
   "execution_count": 48,
   "id": "c5e30a8c-0971-4cb3-8550-fe9fc2310011",
   "metadata": {
    "tags": []
   },
   "outputs": [],
   "source": [
    "function_name = response.candidates[0].content.parts[0].function_call.name\n",
    "\n",
    "for key, value in response.candidates[0].content.parts[0].function_call.args.items():\n",
    "    arg_name = key\n",
    "    arg_value = value.lower().strip()\n",
    "\n",
    "final_response = ''\n",
    "if function_name == 'query_product_info':\n",
    "    final_response = query_product_info(arg_value)\n",
    "\n",
    "if function_name == 'get_weekly_product_orders':\n",
    "    final_response = get_weekly_product_orders(arg_value)"
   ]
  },
  {
   "cell_type": "code",
   "execution_count": 49,
   "id": "fad5d937-e209-4901-9ba2-ab0c8d8fd6d2",
   "metadata": {
    "tags": []
   },
   "outputs": [
    {
     "data": {
      "text/plain": [
       "[{'name': 'Low Profile Dyed Cotton Twill Cap - Navy W39S55D',\n",
       "  'brand': 'MG',\n",
       "  'price': 6.3,\n",
       "  'department': 'Women'}]"
      ]
     },
     "execution_count": 49,
     "metadata": {},
     "output_type": "execute_result"
    }
   ],
   "source": [
    "final_response"
   ]
  },
  {
   "cell_type": "code",
   "execution_count": 19,
   "id": "4a321918-10f6-4f57-8c97-283f56f8c69b",
   "metadata": {
    "tags": []
   },
   "outputs": [
    {
     "data": {
      "text/plain": [
       "'There were no orders for Enzyme Regular Solid Army Caps-Black W35S45D in the past week. \\n'"
      ]
     },
     "execution_count": 19,
     "metadata": {},
     "output_type": "execute_result"
    }
   ],
   "source": [
    "response = chat.send_message(\n",
    "    Part.from_function_response(\n",
    "        name=function_name,\n",
    "        response={\n",
    "            \"content\": final_response,\n",
    "        },\n",
    "    ),\n",
    ")\n",
    "response.text"
   ]
  },
  {
   "cell_type": "code",
   "execution_count": null,
   "id": "e1bf9789-9208-414e-b266-97974edab1c0",
   "metadata": {},
   "outputs": [],
   "source": []
  }
 ],
 "metadata": {
  "environment": {
   "kernel": "python3",
   "name": "common-cpu.m124",
   "type": "gcloud",
   "uri": "us-docker.pkg.dev/deeplearning-platform-release/gcr.io/base-cpu:m124"
  },
  "kernelspec": {
   "display_name": "Python 3 (Local)",
   "language": "python",
   "name": "python3"
  },
  "language_info": {
   "codemirror_mode": {
    "name": "ipython",
    "version": 3
   },
   "file_extension": ".py",
   "mimetype": "text/x-python",
   "name": "python",
   "nbconvert_exporter": "python",
   "pygments_lexer": "ipython3",
   "version": "3.10.14"
  }
 },
 "nbformat": 4,
 "nbformat_minor": 5
}
