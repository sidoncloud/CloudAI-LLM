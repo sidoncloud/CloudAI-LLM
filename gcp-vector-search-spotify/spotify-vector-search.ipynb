{
 "cells": [
  {
   "cell_type": "code",
   "execution_count": 1,
   "id": "503e6848-94f6-4aa6-8884-22d7d6e15cc2",
   "metadata": {
    "tags": []
   },
   "outputs": [
    {
     "name": "stdout",
     "output_type": "stream",
     "text": [
      "\u001b[33m  WARNING: The script tb-gcp-uploader is installed in '/home/jupyter/.local/bin' which is not on PATH.\n",
      "  Consider adding this directory to PATH or, if you prefer to suppress this warning, use --no-warn-script-location.\u001b[0m\u001b[33m\n",
      "\u001b[0m\u001b[31mERROR: pip's dependency resolver does not currently take into account all the packages that are installed. This behaviour is the source of the following dependency conflicts.\n",
      "google-api-python-client 1.8.0 requires google-api-core<2dev,>=1.13.0, but you have google-api-core 2.19.0 which is incompatible.\u001b[0m\u001b[31m\n",
      "\u001b[0mNote: you may need to restart the kernel to use updated packages.\n"
     ]
    }
   ],
   "source": [
    "%pip install --upgrade --user --quiet google-cloud-aiplatform google-cloud-storage"
   ]
  },
  {
   "cell_type": "code",
   "execution_count": 1,
   "id": "e5ad0fd9-a7cf-4275-8f77-1414504ae870",
   "metadata": {
    "tags": []
   },
   "outputs": [],
   "source": [
    "import pandas as pd\n",
    "from google.cloud import storage, aiplatform\n",
    "from vertexai.preview.language_models import TextEmbeddingModel\n",
    "import vertexai\n",
    "import tqdm\n",
    "import time\n",
    "\n",
    "PROJECT_ID = \"{project-id}\"\n",
    "LOCATION = \"us-central1\"\n",
    "\n",
    "BUCKET_NAME = \" {bucket-name}\"\n",
    "CSV_FILE_PATH = \"music.csv\"\n",
    "\n",
    "vertexai.init(project=PROJECT_ID, location=LOCATION)\n",
    "\n",
    "df = pd.read_csv(CSV_FILE_PATH)"
   ]
  },
  {
   "cell_type": "code",
   "execution_count": 2,
   "id": "1bc54c8c-b9d4-426d-b28b-78fb5639d86c",
   "metadata": {
    "tags": []
   },
   "outputs": [],
   "source": [
    "df = df.head(2000)"
   ]
  },
  {
   "cell_type": "code",
   "execution_count": 3,
   "id": "eab02a31-7d54-4304-ace5-16c894184d98",
   "metadata": {},
   "outputs": [],
   "source": [
    "df['combined_details'] = df.apply(lambda row: f\"{row['track_name']} {row['popularity']} duration_ms {row['danceability']} {row['loudness']} {row['track_genre']} {row['tempo']} {row['instrumentalness']}\", axis=1)\n",
    "\n",
    "model = TextEmbeddingModel.from_pretrained(\"textembedding-gecko@001\")"
   ]
  },
  {
   "cell_type": "code",
   "execution_count": 4,
   "id": "87260e27-d6fb-43d3-9ae8-6e97e9f1daff",
   "metadata": {},
   "outputs": [
    {
     "name": "stderr",
     "output_type": "stream",
     "text": [
      "100%|██████████| 400/400 [07:18<00:00,  1.10s/it]\n"
     ]
    }
   ],
   "source": [
    "def get_embeddings_wrapper(texts,batch_size=5):\n",
    "    embeddings = []\n",
    "    for i in tqdm.tqdm(range(0, len(texts),batch_size)):\n",
    "        time.sleep(1)\n",
    "        batch_texts = texts[i:i+batch_size]\n",
    "        batch_embeddings = model.get_embeddings(batch_texts)\n",
    "        embeddings.extend([embedding.values for embedding in batch_embeddings])\n",
    "    return embeddings\n",
    "\n",
    "combined_texts = df['combined_details'].tolist()\n",
    "df['embedding'] = get_embeddings_wrapper(combined_texts)"
   ]
  },
  {
   "cell_type": "code",
   "execution_count": null,
   "id": "cdaeee38-5453-42ed-854b-ad91106aac1b",
   "metadata": {
    "tags": []
   },
   "outputs": [],
   "source": [
    "df.head()"
   ]
  },
  {
   "cell_type": "code",
   "execution_count": 5,
   "id": "0bb20934-7dfd-4f6a-b46d-531b27995822",
   "metadata": {},
   "outputs": [],
   "source": [
    "jsonl_string = df[[\"id\",\"track_id\", \"artists\",\"album_name\",\"track_name\",\"embedding\"]].to_json(orient=\"records\", lines=True)\n",
    "\n",
    "with open(\"songs.json\", \"w\") as f:\n",
    "    f.write(jsonl_string)"
   ]
  },
  {
   "cell_type": "code",
   "execution_count": 7,
   "id": "ae55b8f5-91cd-4e43-814c-702277a8cfd4",
   "metadata": {},
   "outputs": [
    {
     "name": "stdout",
     "output_type": "stream",
     "text": [
      "Copying file://songs.json [Content-Type=application/json]...\n",
      "/ [1 files][ 19.9 MiB/ 19.9 MiB]                                                \n",
      "Operation completed over 1 objects/19.9 MiB.                                     \n"
     ]
    }
   ],
   "source": [
    "BUCKET_URI = f\"gs://no-latency-labs-documents\"\n",
    "! gsutil cp songs.json {BUCKET_URI}"
   ]
  },
  {
   "cell_type": "code",
   "execution_count": 8,
   "id": "72f3fe30-c77b-451b-b92f-a74ac1320ec4",
   "metadata": {},
   "outputs": [
    {
     "name": "stdout",
     "output_type": "stream",
     "text": [
      "Creating MatchingEngineIndex\n",
      "Create MatchingEngineIndex backing LRO: projects/499192289487/locations/us-central1/indexes/7597066796025249792/operations/2681464253168222208\n",
      "MatchingEngineIndex created. Resource name: projects/499192289487/locations/us-central1/indexes/7597066796025249792\n",
      "To use this MatchingEngineIndex in another session:\n",
      "index = aiplatform.MatchingEngineIndex('projects/499192289487/locations/us-central1/indexes/7597066796025249792')\n"
     ]
    }
   ],
   "source": [
    "from google.cloud import aiplatform\n",
    "aiplatform.init(project=PROJECT_ID,location=LOCATION)\n",
    "\n",
    "my_index = aiplatform.MatchingEngineIndex.create_tree_ah_index(\n",
    "    display_name=f\"spotify-songs-idx\",\n",
    "    contents_delta_uri=BUCKET_URI,\n",
    "    dimensions=768,\n",
    "    approximate_neighbors_count=10,\n",
    "    distance_measure_type=\"DOT_PRODUCT_DISTANCE\",\n",
    ")\n"
   ]
  },
  {
   "cell_type": "code",
   "execution_count": 9,
   "id": "9ee119bd-3438-46e8-9c79-e5967856458d",
   "metadata": {},
   "outputs": [
    {
     "name": "stdout",
     "output_type": "stream",
     "text": [
      "Creating MatchingEngineIndexEndpoint\n",
      "Create MatchingEngineIndexEndpoint backing LRO: projects/499192289487/locations/us-central1/indexEndpoints/8814727545275547648/operations/9029287927946936320\n",
      "MatchingEngineIndexEndpoint created. Resource name: projects/499192289487/locations/us-central1/indexEndpoints/8814727545275547648\n",
      "To use this MatchingEngineIndexEndpoint in another session:\n",
      "index_endpoint = aiplatform.MatchingEngineIndexEndpoint('projects/499192289487/locations/us-central1/indexEndpoints/8814727545275547648')\n"
     ]
    }
   ],
   "source": [
    "index_endpoint = aiplatform.MatchingEngineIndexEndpoint.create(\n",
    "    display_name=f\"songs-endpoint\",\n",
    "    public_endpoint_enabled=True\n",
    ")"
   ]
  },
  {
   "cell_type": "code",
   "execution_count": null,
   "id": "58106397-a887-43f6-b315-3d5b1857f3d2",
   "metadata": {
    "tags": []
   },
   "outputs": [
    {
     "name": "stdout",
     "output_type": "stream",
     "text": [
      "Deploying index MatchingEngineIndexEndpoint index_endpoint: projects/499192289487/locations/us-central1/indexEndpoints/8814727545275547648\n",
      "Deploy index MatchingEngineIndexEndpoint index_endpoint backing LRO: projects/499192289487/locations/us-central1/indexEndpoints/8814727545275547648/operations/2390982077202825216\n"
     ]
    }
   ],
   "source": [
    "DEPLOYED_INDEX_ID = f\"spotify_songs_idx\"\n",
    "\n",
    "index_endpoint.deploy_index(index=my_index, deployed_index_id=DEPLOYED_INDEX_ID)"
   ]
  },
  {
   "cell_type": "code",
   "execution_count": 23,
   "id": "cbd391ad-01ec-4903-a1a5-983cf2f99cf9",
   "metadata": {
    "tags": []
   },
   "outputs": [
    {
     "name": "stderr",
     "output_type": "stream",
     "text": [
      "100%|██████████| 1/1 [00:01<00:00,  1.10s/it]"
     ]
    },
    {
     "name": "stdout",
     "output_type": "stream",
     "text": [
      "0.6941 4G8wt3fUBpgBjI35TBF2eQ Duet-Rachael Yamagata-Elephants...Teeth Sinking Into Heart (Standard Version)\n",
      "0.6748 6sJRYw9CnzDyZ3mBOAVtNN Dulce-Los Amigos Invisibles-Commercial\n",
      "0.6742 7HuER5q1a5dJ0uKrfGrMCj Searching-Jlyricz-Searching\n",
      "0.6732 5HIZ8V82BzmcQUwTqZK5J2 The Ally-Ikebe Shakedown-The Way Home\n",
      "0.6708 6DU07zLVPOlPqqybYpQZDn Dueña de Mi-La Misa Negra-La Misa Negra\n"
     ]
    },
    {
     "name": "stderr",
     "output_type": "stream",
     "text": [
      "\n"
     ]
    }
   ],
   "source": [
    "# user_prompt = \"Find all duets in the data set\"\n",
    "\n",
    "user_prompt = \"Recommend some happy songs\"\n",
    "test_embeddings = get_embeddings_wrapper([user_prompt])\n",
    "\n",
    "response = index_endpoint.find_neighbors(\n",
    "    deployed_index_id=DEPLOYED_INDEX_ID,\n",
    "    queries=test_embeddings,\n",
    "    num_neighbors=5,\n",
    ")\n",
    "import numpy as np\n",
    "\n",
    "for idx, neighbor in enumerate(response[0]):\n",
    "    id = np.int64(neighbor.id)\n",
    "    similar = df.query(\"id == @id\", engine=\"python\")\n",
    "    print(f\"{neighbor.distance:.4f} {similar.track_id.values[0]} {similar.track_name.values[0]}-{similar.artists.values[0]}-{similar.album_name.values[0]}\")"
   ]
  },
  {
   "cell_type": "code",
   "execution_count": null,
   "id": "76a750c0-675f-4e60-9a6f-f975f83436fe",
   "metadata": {
    "tags": []
   },
   "outputs": [],
   "source": []
  },
  {
   "cell_type": "code",
   "execution_count": null,
   "id": "8cd4bd08-966d-4a43-8b54-15f5ca4e10e5",
   "metadata": {},
   "outputs": [],
   "source": []
  },
  {
   "cell_type": "code",
   "execution_count": null,
   "id": "c55c45c0-ed49-427d-9ca4-a9b447c515ca",
   "metadata": {},
   "outputs": [],
   "source": []
  },
  {
   "cell_type": "code",
   "execution_count": null,
   "id": "57eca11d-1e55-4e26-868c-090a5ec028e5",
   "metadata": {},
   "outputs": [],
   "source": []
  },
  {
   "cell_type": "code",
   "execution_count": null,
   "id": "ca615af2-b737-4271-9049-e2448440bb9f",
   "metadata": {},
   "outputs": [],
   "source": []
  },
  {
   "cell_type": "code",
   "execution_count": null,
   "id": "35e4a6f5-0853-4877-bb6f-63ac32a2d94c",
   "metadata": {},
   "outputs": [],
   "source": []
  }
 ],
 "metadata": {
  "environment": {
   "kernel": "python3",
   "name": "common-cpu.m120",
   "type": "gcloud",
   "uri": "us-docker.pkg.dev/deeplearning-platform-release/gcr.io/base-cpu:m120"
  },
  "kernelspec": {
   "display_name": "Python 3",
   "language": "python",
   "name": "python3"
  },
  "language_info": {
   "codemirror_mode": {
    "name": "ipython",
    "version": 3
   },
   "file_extension": ".py",
   "mimetype": "text/x-python",
   "name": "python",
   "nbconvert_exporter": "python",
   "pygments_lexer": "ipython3",
   "version": "3.10.14"
  }
 },
 "nbformat": 4,
 "nbformat_minor": 5
}
