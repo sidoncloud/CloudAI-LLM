{
 "cells": [
  {
   "cell_type": "code",
   "execution_count": 1,
   "id": "9d3a6b35-7a3c-48c3-be49-c12d1809d6ca",
   "metadata": {},
   "outputs": [],
   "source": [
    "# !pip3 install boto3"
   ]
  },
  {
   "cell_type": "code",
   "execution_count": 4,
   "id": "f6aa8abe-b973-4086-8d60-fdd25de018ac",
   "metadata": {},
   "outputs": [],
   "source": [
    "import logging\n",
    "import boto3\n",
    "session = boto3.session.Session()\n",
    "bedrock_agent_runtime_client = boto3.client('bedrock-agent-runtime')"
   ]
  },
  {
   "cell_type": "code",
   "execution_count": null,
   "id": "7d283afb-4a60-496a-9eff-8ab448fad2c5",
   "metadata": {},
   "outputs": [
    {
     "name": "stdout",
     "output_type": "stream",
     "text": [
      "According to the AWS Lambda FAQs, there are a few key points about the execution duration of AWS Lambda functions:\n",
      "\n",
      "1. Maximum execution duration:\n",
      "   - AWS Lambda functions have a maximum execution duration of 15 minutes.\n",
      "   - This means that a Lambda function cannot run for longer than 15 minutes.\n",
      "\n",
      "2. Timeout setting:\n",
      "   - You can configure a timeout setting for your Lambda function, which specifies the maximum time the function is allowed to run before it is terminated.\n",
      "   - The default timeout is 3 seconds, but you can set it to any value between 1 second and 15 minutes.\n",
      "\n",
      "3. Handling long-running tasks:\n",
      "   - If you have a task that requires more than 15 minutes to complete, you should consider breaking it down into multiple smaller Lambda functions or using a different AWS service that can handle longer-running tasks, such as AWS Batch or AWS Step Functions.\n",
      "\n",
      "So in summary, the maximum execution duration for an AWS Lambda function is 15 minutes, but you can configure a custom timeout setting between 1 second and 15 minutes for your specific function. If you need to run a task longer than 15 minutes, you should consider alternative AWS services or architectures.\n"
     ]
    }
   ],
   "source": [
    "query = \"how long can a lambda function execute?\"\n",
    "\n",
    "max_results = 3\n",
    "kb_id = \"\"\n",
    "model_id = \"anthropic.claude-3-haiku-20240307-v1:0\"\n",
    "model_arn = f'arn:aws:bedrock:us-east-1::foundation-model/{model_id}'\n",
    "\n",
    "default_prompt = \"\"\"\n",
    "You are a helpful cloud assitant who helps customers with queries related to different aws cloud services. \n",
    "$search_results$\n",
    "\"\"\"\n",
    "\n",
    "response = bedrock_agent_runtime_client.retrieve_and_generate(\n",
    "            input={\n",
    "                'text': query\n",
    "            },\n",
    "        retrieveAndGenerateConfiguration={\n",
    "        'type': 'KNOWLEDGE_BASE',\n",
    "        'knowledgeBaseConfiguration': {\n",
    "            'knowledgeBaseId': kb_id,\n",
    "            'modelArn': model_arn, \n",
    "            'retrievalConfiguration': {\n",
    "                'vectorSearchConfiguration': {\n",
    "                    'numberOfResults': max_results # will fetch top N documents which closely match the query\n",
    "                    }\n",
    "                },\n",
    "                'generationConfiguration': {\n",
    "                        'promptTemplate': {\n",
    "                            'textPromptTemplate': default_prompt\n",
    "                        }\n",
    "                    }\n",
    "            }\n",
    "        }\n",
    "    )\n",
    "\n",
    "generated_text = response['output']['text']\n",
    "\n",
    "print(generated_text)"
   ]
  }
 ],
 "metadata": {
  "kernelspec": {
   "display_name": "Python 3 (ipykernel)",
   "language": "python",
   "name": "python3"
  },
  "language_info": {
   "codemirror_mode": {
    "name": "ipython",
    "version": 3
   },
   "file_extension": ".py",
   "mimetype": "text/x-python",
   "name": "python",
   "nbconvert_exporter": "python",
   "pygments_lexer": "ipython3",
   "version": "3.11.6"
  }
 },
 "nbformat": 4,
 "nbformat_minor": 5
}
